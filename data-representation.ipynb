{
 "cells": [
  {
   "cell_type": "code",
   "execution_count": null,
   "metadata": {},
   "outputs": [],
   "source": [
    "import pandas as pd\n",
    "import os\n",
    "import numpy as np"
   ]
  },
  {
   "cell_type": "code",
   "execution_count": null,
   "metadata": {},
   "outputs": [],
   "source": [
    "train_dataset = pd.read_csv(os.path.join(\"downloaded\", \"twitter-2016train-A.tsv\"), \n",
    "                            sep=\"\\t\", \n",
    "                            header=None,\n",
    "                            names=[\"id\", \"label\", \"tweet\"])\n",
    "dev_dataset = pd.read_csv(os.path.join(\"downloaded\", \"twitter-2016dev-A.tsv\"), \n",
    "                          sep=\"\\t\", \n",
    "                          header=None,\n",
    "                          names=[\"id\", \"label\", \"tweet\"])\n",
    "test_dataset = pd.read_csv(os.path.join(\"downloaded\", \"twitter-2016devtest-A.tsv\"), \n",
    "                           sep=\"\\t\", \n",
    "                           header=None,\n",
    "                           names=[\"id\", \"label\", \"tweet\"]\n",
    "                           )\n",
    "                           \n",
    "train_dataset = train_dataset[[\"tweet\", \"label\"]]\n",
    "dev_dataset = dev_dataset[[\"tweet\", \"label\"]]\n",
    "test_dataset = test_dataset[[\"tweet\", \"label\"]]\n",
    "\n",
    "train_dataset[\"label\"] = train_dataset[\"label\"].apply(lambda x: 0 if x == \"negative\" else 1 if x == \"neutral\" else 2)\n",
    "dev_dataset[\"label\"] = dev_dataset[\"label\"].apply(lambda x: 0 if x == \"negative\" else 1 if x == \"neutral\" else 2)\n",
    "test_dataset[\"label\"] = test_dataset[\"label\"].apply(lambda x: 0 if x == \"negative\" else 1 if x == \"neutral\" else 2)"
   ]
  },
  {
   "cell_type": "markdown",
   "metadata": {},
   "source": [
    "# Dataset statistics"
   ]
  },
  {
   "cell_type": "code",
   "execution_count": null,
   "metadata": {},
   "outputs": [],
   "source": [
    "import matplotlib.pyplot as plt\n",
    "colors = ['red', 'orange', 'limegreen']"
   ]
  },
  {
   "cell_type": "markdown",
   "metadata": {},
   "source": [
    "## Imbalanced Data"
   ]
  },
  {
   "cell_type": "code",
   "execution_count": null,
   "metadata": {},
   "outputs": [],
   "source": [
    "train_dat_class = [sum(train_dataset[\"label\"] == i) for i in range(3)]\n",
    "plt.bar([\"negative\", \"neutral\", \"positive\"], train_dat_class, color=colors)\n",
    "plt.title(\"Train Data Class Distribution\")\n",
    "plt.savefig(os.path.join(\"data-imbalance\",\"train-class.pdf\"))"
   ]
  },
  {
   "cell_type": "code",
   "execution_count": null,
   "metadata": {},
   "outputs": [],
   "source": [
    "test_dat_class = [sum(test_dataset[\"label\"] == i) for i in range(3)]\n",
    "plt.bar([\"negative\", \"neutral\", \"positive\"], test_dat_class, color=colors)\n",
    "plt.title(\"Test Data Class Distribution\")\n",
    "plt.savefig(os.path.join(\"data-imbalance\",\"test-class.pdf\"))"
   ]
  },
  {
   "cell_type": "code",
   "execution_count": null,
   "metadata": {},
   "outputs": [],
   "source": [
    "\n",
    "dev_dat_class = [sum(dev_dataset[\"label\"] == i) for i in range(3)]\n",
    "plt.bar([\"negative\", \"neutral\", \"positive\"], dev_dat_class, color=colors)\n",
    "plt.title(\"Validation Data Class Distribution\")\n",
    "plt.savefig(os.path.join(\"data-imbalance\",\"val-class.pdf\"))"
   ]
  },
  {
   "cell_type": "markdown",
   "metadata": {},
   "source": [
    "## Balance Data"
   ]
  },
  {
   "cell_type": "code",
   "execution_count": null,
   "metadata": {},
   "outputs": [],
   "source": [
    "np.random.seed(42)"
   ]
  },
  {
   "cell_type": "code",
   "execution_count": null,
   "metadata": {},
   "outputs": [],
   "source": [
    "balanced_test = test_dataset.groupby('label')\n",
    "balanced_test = balanced_test.apply(lambda x: x.sample(balanced_test.size().min()).reset_index(drop=True))\n",
    "balanced_test[\"label\"].value_counts()\n",
    "# balanced_test\n",
    "\n",
    "balanced_train = train_dataset.groupby('label')\n",
    "balanced_train = balanced_train.apply(lambda x: x.sample(balanced_train.size().min()).reset_index(drop=True))\n",
    "balanced_train[\"label\"].value_counts()\n",
    "\n",
    "balanced_dev = dev_dataset.groupby('label')\n",
    "balanced_dev = balanced_dev.apply(lambda x: x.sample(balanced_dev.size().min()).reset_index(drop=True))\n"
   ]
  },
  {
   "cell_type": "code",
   "execution_count": null,
   "metadata": {},
   "outputs": [],
   "source": [
    "train_dat_class = [sum(balanced_train[\"label\"] == i) for i in range(3)]\n",
    "plt.bar([\"negative\", \"neutral\", \"positive\"], train_dat_class, color=colors)\n",
    "plt.title(\"Train Data Class Distribution\")\n",
    "plt.savefig(os.path.join(\"data-balance\",\"train-bal-class.pdf\"))"
   ]
  },
  {
   "cell_type": "code",
   "execution_count": null,
   "metadata": {},
   "outputs": [],
   "source": [
    "valid = [sum(balanced_dev[\"label\"] == i) for i in range(3)]\n",
    "plt.bar([\"negative\", \"neutral\", \"positive\"], valid, color=colors)\n",
    "plt.title(\"Validation Data Class Distribution\")\n",
    "plt.savefig(os.path.join(\"data-balance\",\"val-bal-class.pdf\"))"
   ]
  },
  {
   "cell_type": "code",
   "execution_count": null,
   "metadata": {},
   "outputs": [],
   "source": [
    "test = [sum(balanced_test[\"label\"] == i) for i in range(3)]\n",
    "plt.bar([\"negative\", \"neutral\", \"positive\"], test, color=colors)\n",
    "plt.title(\"Test Data Class Distribution\")\n",
    "plt.savefig(os.path.join(\"data-balance\",\"test-bal-class.pdf\"))"
   ]
  },
  {
   "cell_type": "markdown",
   "metadata": {},
   "source": [
    "# Export the dataframes as CSV files"
   ]
  },
  {
   "cell_type": "code",
   "execution_count": 54,
   "metadata": {},
   "outputs": [],
   "source": [
    "train_dataset.to_csv(os.path.join(\"data-imbalance\", \"train-imbalance.csv\"), index=False)\n",
    "dev_dataset.to_csv(os.path.join(\"data-imbalance\", \"dev-imbalance.csv\"), index=False)\n",
    "test_dataset.to_csv(os.path.join(\"data-imbalance\", \"test-imbalance.csv\"), index=False)"
   ]
  },
  {
   "cell_type": "code",
   "execution_count": 55,
   "metadata": {},
   "outputs": [],
   "source": [
    "balanced_test.to_csv(os.path.join(\"data-balance\", \"test-balance.csv\"), index=False)\n",
    "balanced_train.to_csv(os.path.join(\"data-balance\", \"train-balance.csv\"), index=False)\n",
    "balanced_dev.to_csv(os.path.join(\"data-balance\", \"dev-balance.csv\"), index=False)"
   ]
  }
 ],
 "metadata": {
  "kernelspec": {
   "display_name": "text",
   "language": "python",
   "name": "python3"
  },
  "language_info": {
   "codemirror_mode": {
    "name": "ipython",
    "version": 3
   },
   "file_extension": ".py",
   "mimetype": "text/x-python",
   "name": "python",
   "nbconvert_exporter": "python",
   "pygments_lexer": "ipython3",
   "version": "3.11.5"
  }
 },
 "nbformat": 4,
 "nbformat_minor": 2
}
